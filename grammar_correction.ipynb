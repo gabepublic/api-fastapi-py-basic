{
  "nbformat": 4,
  "nbformat_minor": 0,
  "metadata": {
    "colab": {
      "provenance": [],
      "toc_visible": true,
      "authorship_tag": "ABX9TyPzwTDxO4/hziM+V9MLuBP2",
      "include_colab_link": true
    },
    "kernelspec": {
      "name": "python3",
      "display_name": "Python 3"
    },
    "language_info": {
      "name": "python"
    }
  },
  "cells": [
    {
      "cell_type": "markdown",
      "metadata": {
        "id": "view-in-github",
        "colab_type": "text"
      },
      "source": [
        "<a href=\"https://colab.research.google.com/github/gabepublic/api-fastapi-py-basic/blob/main/grammar_correction.ipynb\" target=\"_parent\"><img src=\"https://colab.research.google.com/assets/colab-badge.svg\" alt=\"Open In Colab\"/></a>"
      ]
    },
    {
      "cell_type": "markdown",
      "source": [
        "# Grammar Correction\n",
        "\n",
        "Source: https://platform.openai.com/examples/default-grammar\n"
      ],
      "metadata": {
        "id": "V7FMuD11eVUU"
      }
    },
    {
      "cell_type": "markdown",
      "source": [
        "## 01-Mandatory Setup"
      ],
      "metadata": {
        "id": "sEWfELhXfKLL"
      }
    },
    {
      "cell_type": "markdown",
      "source": [
        "### OpenAI API Key from `.env` file"
      ],
      "metadata": {
        "id": "rqGyzyg-fbFM"
      }
    },
    {
      "cell_type": "code",
      "source": [],
      "metadata": {
        "id": "0FTQYNThfP6y"
      },
      "execution_count": null,
      "outputs": []
    },
    {
      "cell_type": "code",
      "source": [],
      "metadata": {
        "id": "66xWh-1Te4E0"
      },
      "execution_count": null,
      "outputs": []
    },
    {
      "cell_type": "code",
      "source": [],
      "metadata": {
        "id": "aTPKi2SOe4KN"
      },
      "execution_count": null,
      "outputs": []
    }
  ]
}